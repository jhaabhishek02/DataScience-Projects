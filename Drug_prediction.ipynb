{
 "cells": [
  {
   "cell_type": "code",
   "execution_count": 30,
   "id": "7cae07db",
   "metadata": {},
   "outputs": [],
   "source": [
    "import pandas as pd\n",
    "import numpy as np"
   ]
  },
  {
   "cell_type": "markdown",
   "id": "92836461",
   "metadata": {},
   "source": [
    "# Reading the dataset from csv"
   ]
  },
  {
   "cell_type": "code",
   "execution_count": 31,
   "id": "8b48e5be",
   "metadata": {},
   "outputs": [
    {
     "data": {
      "text/html": [
       "<div>\n",
       "<style scoped>\n",
       "    .dataframe tbody tr th:only-of-type {\n",
       "        vertical-align: middle;\n",
       "    }\n",
       "\n",
       "    .dataframe tbody tr th {\n",
       "        vertical-align: top;\n",
       "    }\n",
       "\n",
       "    .dataframe thead th {\n",
       "        text-align: right;\n",
       "    }\n",
       "</style>\n",
       "<table border=\"1\" class=\"dataframe\">\n",
       "  <thead>\n",
       "    <tr style=\"text-align: right;\">\n",
       "      <th></th>\n",
       "      <th>Age</th>\n",
       "      <th>Sex</th>\n",
       "      <th>BP</th>\n",
       "      <th>Cholesterol</th>\n",
       "      <th>Na_to_K</th>\n",
       "      <th>Drug</th>\n",
       "    </tr>\n",
       "  </thead>\n",
       "  <tbody>\n",
       "    <tr>\n",
       "      <th>0</th>\n",
       "      <td>23</td>\n",
       "      <td>F</td>\n",
       "      <td>HIGH</td>\n",
       "      <td>HIGH</td>\n",
       "      <td>25.355</td>\n",
       "      <td>DrugY</td>\n",
       "    </tr>\n",
       "    <tr>\n",
       "      <th>1</th>\n",
       "      <td>47</td>\n",
       "      <td>M</td>\n",
       "      <td>LOW</td>\n",
       "      <td>HIGH</td>\n",
       "      <td>13.093</td>\n",
       "      <td>drugC</td>\n",
       "    </tr>\n",
       "    <tr>\n",
       "      <th>2</th>\n",
       "      <td>47</td>\n",
       "      <td>M</td>\n",
       "      <td>LOW</td>\n",
       "      <td>HIGH</td>\n",
       "      <td>10.114</td>\n",
       "      <td>drugC</td>\n",
       "    </tr>\n",
       "    <tr>\n",
       "      <th>3</th>\n",
       "      <td>28</td>\n",
       "      <td>F</td>\n",
       "      <td>NORMAL</td>\n",
       "      <td>HIGH</td>\n",
       "      <td>7.798</td>\n",
       "      <td>drugX</td>\n",
       "    </tr>\n",
       "    <tr>\n",
       "      <th>4</th>\n",
       "      <td>61</td>\n",
       "      <td>F</td>\n",
       "      <td>LOW</td>\n",
       "      <td>HIGH</td>\n",
       "      <td>18.043</td>\n",
       "      <td>DrugY</td>\n",
       "    </tr>\n",
       "    <tr>\n",
       "      <th>5</th>\n",
       "      <td>22</td>\n",
       "      <td>F</td>\n",
       "      <td>NORMAL</td>\n",
       "      <td>HIGH</td>\n",
       "      <td>8.607</td>\n",
       "      <td>drugX</td>\n",
       "    </tr>\n",
       "    <tr>\n",
       "      <th>6</th>\n",
       "      <td>49</td>\n",
       "      <td>F</td>\n",
       "      <td>NORMAL</td>\n",
       "      <td>HIGH</td>\n",
       "      <td>16.275</td>\n",
       "      <td>DrugY</td>\n",
       "    </tr>\n",
       "    <tr>\n",
       "      <th>7</th>\n",
       "      <td>41</td>\n",
       "      <td>M</td>\n",
       "      <td>LOW</td>\n",
       "      <td>HIGH</td>\n",
       "      <td>11.037</td>\n",
       "      <td>drugC</td>\n",
       "    </tr>\n",
       "    <tr>\n",
       "      <th>8</th>\n",
       "      <td>60</td>\n",
       "      <td>M</td>\n",
       "      <td>NORMAL</td>\n",
       "      <td>HIGH</td>\n",
       "      <td>15.171</td>\n",
       "      <td>DrugY</td>\n",
       "    </tr>\n",
       "    <tr>\n",
       "      <th>9</th>\n",
       "      <td>43</td>\n",
       "      <td>M</td>\n",
       "      <td>LOW</td>\n",
       "      <td>NORMAL</td>\n",
       "      <td>19.368</td>\n",
       "      <td>DrugY</td>\n",
       "    </tr>\n",
       "  </tbody>\n",
       "</table>\n",
       "</div>"
      ],
      "text/plain": [
       "   Age Sex      BP Cholesterol  Na_to_K   Drug\n",
       "0   23   F    HIGH        HIGH   25.355  DrugY\n",
       "1   47   M     LOW        HIGH   13.093  drugC\n",
       "2   47   M     LOW        HIGH   10.114  drugC\n",
       "3   28   F  NORMAL        HIGH    7.798  drugX\n",
       "4   61   F     LOW        HIGH   18.043  DrugY\n",
       "5   22   F  NORMAL        HIGH    8.607  drugX\n",
       "6   49   F  NORMAL        HIGH   16.275  DrugY\n",
       "7   41   M     LOW        HIGH   11.037  drugC\n",
       "8   60   M  NORMAL        HIGH   15.171  DrugY\n",
       "9   43   M     LOW      NORMAL   19.368  DrugY"
      ]
     },
     "execution_count": 31,
     "metadata": {},
     "output_type": "execute_result"
    }
   ],
   "source": [
    "df=pd.read_csv(\"drug200.csv\")\n",
    "df.head(10)"
   ]
  },
  {
   "cell_type": "code",
   "execution_count": 32,
   "id": "2b34c3ea",
   "metadata": {},
   "outputs": [
    {
     "data": {
      "text/html": [
       "<div>\n",
       "<style scoped>\n",
       "    .dataframe tbody tr th:only-of-type {\n",
       "        vertical-align: middle;\n",
       "    }\n",
       "\n",
       "    .dataframe tbody tr th {\n",
       "        vertical-align: top;\n",
       "    }\n",
       "\n",
       "    .dataframe thead th {\n",
       "        text-align: right;\n",
       "    }\n",
       "</style>\n",
       "<table border=\"1\" class=\"dataframe\">\n",
       "  <thead>\n",
       "    <tr style=\"text-align: right;\">\n",
       "      <th></th>\n",
       "      <th>Age</th>\n",
       "      <th>Na_to_K</th>\n",
       "    </tr>\n",
       "  </thead>\n",
       "  <tbody>\n",
       "    <tr>\n",
       "      <th>count</th>\n",
       "      <td>200.000000</td>\n",
       "      <td>200.000000</td>\n",
       "    </tr>\n",
       "    <tr>\n",
       "      <th>mean</th>\n",
       "      <td>44.315000</td>\n",
       "      <td>16.084485</td>\n",
       "    </tr>\n",
       "    <tr>\n",
       "      <th>std</th>\n",
       "      <td>16.544315</td>\n",
       "      <td>7.223956</td>\n",
       "    </tr>\n",
       "    <tr>\n",
       "      <th>min</th>\n",
       "      <td>15.000000</td>\n",
       "      <td>6.269000</td>\n",
       "    </tr>\n",
       "    <tr>\n",
       "      <th>25%</th>\n",
       "      <td>31.000000</td>\n",
       "      <td>10.445500</td>\n",
       "    </tr>\n",
       "    <tr>\n",
       "      <th>50%</th>\n",
       "      <td>45.000000</td>\n",
       "      <td>13.936500</td>\n",
       "    </tr>\n",
       "    <tr>\n",
       "      <th>75%</th>\n",
       "      <td>58.000000</td>\n",
       "      <td>19.380000</td>\n",
       "    </tr>\n",
       "    <tr>\n",
       "      <th>max</th>\n",
       "      <td>74.000000</td>\n",
       "      <td>38.247000</td>\n",
       "    </tr>\n",
       "  </tbody>\n",
       "</table>\n",
       "</div>"
      ],
      "text/plain": [
       "              Age     Na_to_K\n",
       "count  200.000000  200.000000\n",
       "mean    44.315000   16.084485\n",
       "std     16.544315    7.223956\n",
       "min     15.000000    6.269000\n",
       "25%     31.000000   10.445500\n",
       "50%     45.000000   13.936500\n",
       "75%     58.000000   19.380000\n",
       "max     74.000000   38.247000"
      ]
     },
     "execution_count": 32,
     "metadata": {},
     "output_type": "execute_result"
    }
   ],
   "source": [
    "df.describe()"
   ]
  },
  {
   "cell_type": "markdown",
   "id": "b7fae8da",
   "metadata": {},
   "source": [
    "# checking for unique values in all columns "
   ]
  },
  {
   "cell_type": "code",
   "execution_count": 33,
   "id": "74a4ef94",
   "metadata": {},
   "outputs": [
    {
     "name": "stdout",
     "output_type": "stream",
     "text": [
      "['F' 'M']\n",
      "['HIGH' 'LOW' 'NORMAL']\n",
      "['HIGH' 'NORMAL']\n",
      "['DrugY' 'drugC' 'drugX' 'drugA' 'drugB']\n"
     ]
    }
   ],
   "source": [
    "print(df['Sex'].unique())\n",
    "print(df['BP'].unique())\n",
    "print(df['Cholesterol'].unique())\n",
    "print(df['Drug'].unique())"
   ]
  },
  {
   "cell_type": "markdown",
   "id": "f2a1a449",
   "metadata": {},
   "source": [
    "# checking for any nulls"
   ]
  },
  {
   "cell_type": "code",
   "execution_count": 34,
   "id": "a9101e51",
   "metadata": {},
   "outputs": [
    {
     "data": {
      "text/plain": [
       "Age            0\n",
       "Sex            0\n",
       "BP             0\n",
       "Cholesterol    0\n",
       "Na_to_K        0\n",
       "Drug           0\n",
       "dtype: int64"
      ]
     },
     "execution_count": 34,
     "metadata": {},
     "output_type": "execute_result"
    }
   ],
   "source": [
    "df.isna().sum()"
   ]
  },
  {
   "cell_type": "code",
   "execution_count": 35,
   "id": "e73a80ae",
   "metadata": {},
   "outputs": [],
   "source": [
    "import matplotlib.pyplot as plt\n",
    "import seaborn as sns\n"
   ]
  },
  {
   "cell_type": "markdown",
   "id": "4e4742aa",
   "metadata": {},
   "source": [
    "# analysis on data"
   ]
  },
  {
   "cell_type": "code",
   "execution_count": 36,
   "id": "89dc4b9c",
   "metadata": {},
   "outputs": [
    {
     "data": {
      "text/plain": [
       "<AxesSubplot:xlabel='Na_to_K', ylabel='Count'>"
      ]
     },
     "execution_count": 36,
     "metadata": {},
     "output_type": "execute_result"
    },
    {
     "data": {
      "image/png": "[encoded data removed]",
      "text/plain": [
       "<Figure size 720x360 with 1 Axes>"
      ]
     },
     "metadata": {
      "needs_background": "light"
     },
     "output_type": "display_data"
    }
   ],
   "source": [
    "fig,ax=plt.subplots(figsize=(10,5))\n",
    "sns.histplot(data=df,x= 'Na_to_K',bins=10,kde=True,ax=ax)"
   ]
  },
  {
   "cell_type": "code",
   "execution_count": 37,
   "id": "0409b830",
   "metadata": {},
   "outputs": [
    {
     "data": {
      "text/plain": [
       "<AxesSubplot:xlabel='Cholesterol', ylabel='Age'>"
      ]
     },
     "execution_count": 37,
     "metadata": {},
     "output_type": "execute_result"
    },
    {
     "data": {
      "image/png": "[encoded data removed]",
      "text/plain": [
       "<Figure size 720x360 with 1 Axes>"
      ]
     },
     "metadata": {
      "needs_background": "light"
     },
     "output_type": "display_data"
    }
   ],
   "source": [
    "fig,ax=plt.subplots(figsize=(10,5))\n",
    "sns.barplot(data=df,x='Cholesterol',y='Age',hue='Sex',ax=ax)"
   ]
  },
  {
   "cell_type": "code",
   "execution_count": 38,
   "id": "40e54548",
   "metadata": {},
   "outputs": [
    {
     "data": {
      "text/plain": [
       "<AxesSubplot:xlabel='Drug', ylabel='count'>"
      ]
     },
     "execution_count": 38,
     "metadata": {},
     "output_type": "execute_result"
    },
    {
     "data": {
      "image/png": "[encoded data removed]",
      "text/plain": [
       "<Figure size 720x360 with 1 Axes>"
      ]
     },
     "metadata": {
      "needs_background": "light"
     },
     "output_type": "display_data"
    }
   ],
   "source": [
    "fig,ax=plt.subplots(figsize=(10,5))\n",
    "sns.countplot(data=df,x='Drug',ax=ax)"
   ]
  },
  {
   "cell_type": "code",
   "execution_count": 39,
   "id": "055b8a2a",
   "metadata": {},
   "outputs": [
    {
     "data": {
      "text/html": [
       "<div>\n",
       "<style scoped>\n",
       "    .dataframe tbody tr th:only-of-type {\n",
       "        vertical-align: middle;\n",
       "    }\n",
       "\n",
       "    .dataframe tbody tr th {\n",
       "        vertical-align: top;\n",
       "    }\n",
       "\n",
       "    .dataframe thead th {\n",
       "        text-align: right;\n",
       "    }\n",
       "</style>\n",
       "<table border=\"1\" class=\"dataframe\">\n",
       "  <thead>\n",
       "    <tr style=\"text-align: right;\">\n",
       "      <th></th>\n",
       "      <th>Drug</th>\n",
       "      <th>Sex</th>\n",
       "      <th>count</th>\n",
       "    </tr>\n",
       "  </thead>\n",
       "  <tbody>\n",
       "    <tr>\n",
       "      <th>0</th>\n",
       "      <td>DrugY</td>\n",
       "      <td>F</td>\n",
       "      <td>47</td>\n",
       "    </tr>\n",
       "    <tr>\n",
       "      <th>1</th>\n",
       "      <td>DrugY</td>\n",
       "      <td>M</td>\n",
       "      <td>44</td>\n",
       "    </tr>\n",
       "    <tr>\n",
       "      <th>2</th>\n",
       "      <td>drugA</td>\n",
       "      <td>F</td>\n",
       "      <td>9</td>\n",
       "    </tr>\n",
       "    <tr>\n",
       "      <th>3</th>\n",
       "      <td>drugA</td>\n",
       "      <td>M</td>\n",
       "      <td>14</td>\n",
       "    </tr>\n",
       "    <tr>\n",
       "      <th>4</th>\n",
       "      <td>drugB</td>\n",
       "      <td>F</td>\n",
       "      <td>6</td>\n",
       "    </tr>\n",
       "    <tr>\n",
       "      <th>5</th>\n",
       "      <td>drugB</td>\n",
       "      <td>M</td>\n",
       "      <td>10</td>\n",
       "    </tr>\n",
       "    <tr>\n",
       "      <th>6</th>\n",
       "      <td>drugC</td>\n",
       "      <td>F</td>\n",
       "      <td>7</td>\n",
       "    </tr>\n",
       "    <tr>\n",
       "      <th>7</th>\n",
       "      <td>drugC</td>\n",
       "      <td>M</td>\n",
       "      <td>9</td>\n",
       "    </tr>\n",
       "    <tr>\n",
       "      <th>8</th>\n",
       "      <td>drugX</td>\n",
       "      <td>F</td>\n",
       "      <td>27</td>\n",
       "    </tr>\n",
       "    <tr>\n",
       "      <th>9</th>\n",
       "      <td>drugX</td>\n",
       "      <td>M</td>\n",
       "      <td>27</td>\n",
       "    </tr>\n",
       "  </tbody>\n",
       "</table>\n",
       "</div>"
      ],
      "text/plain": [
       "    Drug Sex  count\n",
       "0  DrugY   F     47\n",
       "1  DrugY   M     44\n",
       "2  drugA   F      9\n",
       "3  drugA   M     14\n",
       "4  drugB   F      6\n",
       "5  drugB   M     10\n",
       "6  drugC   F      7\n",
       "7  drugC   M      9\n",
       "8  drugX   F     27\n",
       "9  drugX   M     27"
      ]
     },
     "execution_count": 39,
     "metadata": {},
     "output_type": "execute_result"
    }
   ],
   "source": [
    "Drug_sex_df=df.groupby(['Drug','Sex']).size().reset_index(name='count')\n",
    "Drug_sex_df"
   ]
  },
  {
   "cell_type": "code",
   "execution_count": 40,
   "id": "65ef2dbe",
   "metadata": {},
   "outputs": [
    {
     "data": {
      "text/plain": [
       "<AxesSubplot:xlabel='Drug', ylabel='count'>"
      ]
     },
     "execution_count": 40,
     "metadata": {},
     "output_type": "execute_result"
    },
    {
     "data": {
      "image/png": "[encoded data removed]",
      "text/plain": [
       "<Figure size 720x360 with 1 Axes>"
      ]
     },
     "metadata": {
      "needs_background": "light"
     },
     "output_type": "display_data"
    }
   ],
   "source": [
    "fig,ax=plt.subplots(figsize=(10,5))\n",
    "sns.barplot(data=Drug_sex_df,x='Drug',y='count',hue='Sex',ax=ax)"
   ]
  },
  {
   "cell_type": "code",
   "execution_count": 41,
   "id": "8aca379b",
   "metadata": {},
   "outputs": [
    {
     "name": "stdout",
     "output_type": "stream",
     "text": [
      "    Drug      BP  count\n",
      "0  DrugY    HIGH     38\n",
      "1  DrugY     LOW     30\n",
      "2  DrugY  NORMAL     23\n",
      "3  drugA    HIGH     23\n",
      "4  drugB    HIGH     16\n",
      "5  drugC     LOW     16\n",
      "6  drugX     LOW     18\n",
      "7  drugX  NORMAL     36\n"
     ]
    },
    {
     "data": {
      "text/plain": [
       "<AxesSubplot:xlabel='Drug', ylabel='count'>"
      ]
     },
     "execution_count": 41,
     "metadata": {},
     "output_type": "execute_result"
    },
    {
     "data": {
      "image/png": "[encoded data removed]",
      "text/plain": [
       "<Figure size 720x360 with 1 Axes>"
      ]
     },
     "metadata": {
      "needs_background": "light"
     },
     "output_type": "display_data"
    }
   ],
   "source": [
    "Drug_BP_df=df.groupby(['Drug','BP']).size().reset_index(name='count')\n",
    "print(Drug_BP_df)\n",
    "fig,ax=plt.subplots(figsize=(10,5))\n",
    "sns.barplot(data=Drug_BP_df,x='Drug',y='count',hue='BP',ax=ax)"
   ]
  },
  {
   "cell_type": "code",
   "execution_count": 42,
   "id": "73701706",
   "metadata": {},
   "outputs": [
    {
     "name": "stdout",
     "output_type": "stream",
     "text": [
      "    Drug Cholesterol  count\n",
      "0  DrugY        HIGH     47\n",
      "1  DrugY      NORMAL     44\n",
      "2  drugA        HIGH     12\n",
      "3  drugA      NORMAL     11\n",
      "4  drugB        HIGH      8\n",
      "5  drugB      NORMAL      8\n",
      "6  drugC        HIGH     16\n",
      "7  drugX        HIGH     20\n",
      "8  drugX      NORMAL     34\n"
     ]
    },
    {
     "data": {
      "text/plain": [
       "<AxesSubplot:xlabel='Drug', ylabel='count'>"
      ]
     },
     "execution_count": 42,
     "metadata": {},
     "output_type": "execute_result"
    },
    {
     "data": {
      "image/png": "[encoded data removed]",
      "text/plain": [
       "<Figure size 720x360 with 1 Axes>"
      ]
     },
     "metadata": {
      "needs_background": "light"
     },
     "output_type": "display_data"
    }
   ],
   "source": [
    "Drug_Cholesterol_df=df.groupby(['Drug','Cholesterol']).size().reset_index(name='count')\n",
    "print(Drug_Cholesterol_df)\n",
    "fig,ax=plt.subplots(figsize=(10,5))\n",
    "sns.barplot(data=Drug_Cholesterol_df,x='Drug',y='count',hue='Cholesterol',ax=ax)"
   ]
  },
  {
   "cell_type": "markdown",
   "id": "f889b7f4",
   "metadata": {},
   "source": [
    "# Dividing Data Into Training and Testing"
   ]
  },
  {
   "cell_type": "code",
   "execution_count": 59,
   "id": "b2626ee6",
   "metadata": {},
   "outputs": [
    {
     "data": {
      "text/plain": [
       "40"
      ]
     },
     "execution_count": 59,
     "metadata": {},
     "output_type": "execute_result"
    }
   ],
   "source": [
    "from sklearn.model_selection import train_test_split\n",
    "X_train,X_test,Y_train,Y_test=train_test_split(df.drop(['Drug'],axis=1),df['Drug'],test_size=0.2)\n",
    "len(X_test)"
   ]
  },
  {
   "cell_type": "code",
   "execution_count": 60,
   "id": "5ffc2825",
   "metadata": {},
   "outputs": [],
   "source": [
    "from sklearn.compose import ColumnTransformer\n",
    "from sklearn.preprocessing import OneHotEncoder\n",
    "transformer=ColumnTransformer(transformers=[\n",
    "    ('Transform1',OneHotEncoder(sparse=False,drop='first'),['Sex','BP','Cholesterol'])\n",
    "],remainder='passthrough')"
   ]
  },
  {
   "cell_type": "code",
   "execution_count": 62,
   "id": "79130663",
   "metadata": {},
   "outputs": [
    {
     "data": {
      "text/plain": [
       "array([[ 1.   ,  0.   ,  1.   ,  0.   , 25.   , 19.011],\n",
       "       [ 1.   ,  1.   ,  0.   ,  0.   , 47.   , 13.093],\n",
       "       [ 1.   ,  0.   ,  0.   ,  1.   , 22.   , 28.294],\n",
       "       [ 0.   ,  1.   ,  0.   ,  0.   , 48.   , 15.036],\n",
       "       [ 1.   ,  1.   ,  0.   ,  0.   , 53.   , 22.963],\n",
       "       [ 0.   ,  0.   ,  0.   ,  0.   , 73.   , 18.348],\n",
       "       [ 1.   ,  0.   ,  1.   ,  0.   , 56.   ,  8.966],\n",
       "       [ 0.   ,  1.   ,  0.   ,  0.   , 32.   ,  9.712],\n",
       "       [ 0.   ,  0.   ,  0.   ,  1.   , 68.   , 10.189],\n",
       "       [ 1.   ,  0.   ,  1.   ,  0.   , 23.   , 16.85 ],\n",
       "       [ 0.   ,  0.   ,  0.   ,  0.   , 58.   , 19.416],\n",
       "       [ 0.   ,  1.   ,  0.   ,  1.   , 32.   , 10.84 ],\n",
       "       [ 0.   ,  0.   ,  1.   ,  0.   , 59.   , 13.884],\n",
       "       [ 1.   ,  1.   ,  0.   ,  1.   , 43.   , 19.368],\n",
       "       [ 1.   ,  0.   ,  1.   ,  1.   , 46.   ,  7.285],\n",
       "       [ 0.   ,  0.   ,  0.   ,  0.   , 23.   , 25.355],\n",
       "       [ 0.   ,  0.   ,  0.   ,  1.   , 21.   , 28.632],\n",
       "       [ 1.   ,  0.   ,  0.   ,  1.   , 20.   , 35.639],\n",
       "       [ 1.   ,  0.   ,  0.   ,  1.   , 24.   ,  9.475],\n",
       "       [ 1.   ,  0.   ,  0.   ,  0.   , 39.   ,  9.664],\n",
       "       [ 0.   ,  1.   ,  0.   ,  1.   , 37.   , 12.006],\n",
       "       [ 0.   ,  0.   ,  0.   ,  0.   , 61.   , 25.475],\n",
       "       [ 0.   ,  0.   ,  0.   ,  1.   , 22.   , 22.818],\n",
       "       [ 1.   ,  1.   ,  0.   ,  1.   , 37.   ,  8.968],\n",
       "       [ 1.   ,  1.   ,  0.   ,  0.   , 23.   ,  7.298],\n",
       "       [ 1.   ,  0.   ,  0.   ,  0.   , 66.   , 16.347],\n",
       "       [ 1.   ,  0.   ,  0.   ,  1.   , 65.   , 11.34 ],\n",
       "       [ 0.   ,  0.   ,  0.   ,  1.   , 53.   , 12.495],\n",
       "       [ 0.   ,  0.   ,  0.   ,  0.   , 37.   , 13.091],\n",
       "       [ 1.   ,  0.   ,  0.   ,  1.   , 31.   , 11.871],\n",
       "       [ 0.   ,  0.   ,  0.   ,  1.   , 26.   , 12.307],\n",
       "       [ 1.   ,  0.   ,  1.   ,  0.   , 22.   , 11.953],\n",
       "       [ 0.   ,  1.   ,  0.   ,  0.   , 58.   , 38.247],\n",
       "       [ 1.   ,  1.   ,  0.   ,  0.   , 41.   , 11.037],\n",
       "       [ 1.   ,  0.   ,  0.   ,  1.   , 41.   , 15.156],\n",
       "       [ 1.   ,  0.   ,  0.   ,  0.   , 70.   , 13.967],\n",
       "       [ 0.   ,  1.   ,  0.   ,  0.   , 28.   , 13.127],\n",
       "       [ 0.   ,  0.   ,  0.   ,  0.   , 29.   , 29.45 ],\n",
       "       [ 0.   ,  0.   ,  1.   ,  1.   , 39.   ,  9.709],\n",
       "       [ 1.   ,  0.   ,  0.   ,  0.   , 29.   , 12.856],\n",
       "       [ 1.   ,  0.   ,  0.   ,  1.   , 48.   , 10.446],\n",
       "       [ 1.   ,  0.   ,  0.   ,  0.   , 40.   , 27.826],\n",
       "       [ 1.   ,  0.   ,  0.   ,  1.   , 16.   , 19.007],\n",
       "       [ 0.   ,  0.   ,  0.   ,  0.   , 20.   , 11.262],\n",
       "       [ 1.   ,  0.   ,  1.   ,  0.   , 52.   ,  9.894],\n",
       "       [ 0.   ,  1.   ,  0.   ,  0.   , 28.   , 19.796],\n",
       "       [ 1.   ,  0.   ,  1.   ,  0.   , 62.   , 16.594],\n",
       "       [ 0.   ,  1.   ,  0.   ,  0.   , 61.   , 18.043],\n",
       "       [ 1.   ,  0.   ,  1.   ,  0.   , 23.   , 31.686],\n",
       "       [ 0.   ,  0.   ,  0.   ,  1.   , 65.   , 31.876],\n",
       "       [ 0.   ,  0.   ,  0.   ,  1.   , 28.   , 18.809],\n",
       "       [ 1.   ,  0.   ,  0.   ,  0.   , 74.   ,  9.567],\n",
       "       [ 0.   ,  0.   ,  1.   ,  0.   , 22.   ,  8.607],\n",
       "       [ 1.   ,  0.   ,  0.   ,  1.   , 49.   ,  8.7  ],\n",
       "       [ 1.   ,  0.   ,  1.   ,  0.   , 61.   ,  9.443],\n",
       "       [ 1.   ,  0.   ,  0.   ,  1.   , 15.   , 17.206],\n",
       "       [ 1.   ,  1.   ,  0.   ,  1.   , 35.   ,  9.17 ],\n",
       "       [ 0.   ,  1.   ,  0.   ,  0.   , 59.   , 10.444],\n",
       "       [ 0.   ,  0.   ,  1.   ,  0.   , 28.   , 19.675],\n",
       "       [ 0.   ,  0.   ,  1.   ,  1.   , 57.   , 25.893],\n",
       "       [ 0.   ,  0.   ,  1.   ,  1.   , 18.   ,  8.75 ],\n",
       "       [ 0.   ,  0.   ,  0.   ,  1.   , 19.   , 25.969],\n",
       "       [ 1.   ,  1.   ,  0.   ,  0.   , 72.   , 16.31 ],\n",
       "       [ 0.   ,  0.   ,  0.   ,  1.   , 57.   ,  9.945],\n",
       "       [ 0.   ,  0.   ,  1.   ,  0.   , 28.   , 12.879],\n",
       "       [ 1.   ,  0.   ,  0.   ,  0.   , 68.   , 11.009],\n",
       "       [ 1.   ,  1.   ,  0.   ,  0.   , 42.   , 20.013],\n",
       "       [ 0.   ,  0.   ,  0.   ,  0.   , 56.   , 25.395],\n",
       "       [ 1.   ,  1.   ,  0.   ,  1.   , 47.   , 33.542],\n",
       "       [ 0.   ,  0.   ,  1.   ,  0.   , 49.   , 16.275],\n",
       "       [ 1.   ,  0.   ,  1.   ,  0.   , 15.   ,  9.084],\n",
       "       [ 1.   ,  1.   ,  0.   ,  0.   , 43.   , 15.376],\n",
       "       [ 0.   ,  1.   ,  0.   ,  1.   , 72.   , 14.642],\n",
       "       [ 1.   ,  0.   ,  1.   ,  1.   , 17.   , 10.832],\n",
       "       [ 0.   ,  1.   ,  0.   ,  0.   , 26.   , 14.16 ],\n",
       "       [ 1.   ,  1.   ,  0.   ,  1.   , 45.   ,  8.37 ],\n",
       "       [ 0.   ,  1.   ,  0.   ,  1.   , 20.   , 11.686],\n",
       "       [ 0.   ,  0.   ,  1.   ,  0.   , 51.   , 13.597],\n",
       "       [ 1.   ,  1.   ,  0.   ,  0.   , 69.   , 15.478],\n",
       "       [ 1.   ,  0.   ,  0.   ,  0.   , 31.   , 30.366],\n",
       "       [ 0.   ,  0.   ,  1.   ,  0.   , 40.   , 10.103],\n",
       "       [ 1.   ,  0.   ,  1.   ,  0.   , 63.   , 25.917],\n",
       "       [ 0.   ,  0.   ,  1.   ,  0.   , 73.   , 19.221],\n",
       "       [ 0.   ,  1.   ,  0.   ,  1.   , 51.   , 23.003],\n",
       "       [ 0.   ,  0.   ,  0.   ,  1.   , 38.   , 11.326],\n",
       "       [ 1.   ,  1.   ,  0.   ,  0.   , 68.   , 10.291],\n",
       "       [ 1.   ,  0.   ,  1.   ,  0.   , 54.   , 24.658],\n",
       "       [ 1.   ,  0.   ,  1.   ,  1.   , 35.   ,  7.845],\n",
       "       [ 0.   ,  0.   ,  1.   ,  1.   , 66.   ,  8.107],\n",
       "       [ 1.   ,  0.   ,  0.   ,  0.   , 51.   , 18.295],\n",
       "       [ 0.   ,  0.   ,  0.   ,  0.   , 36.   , 11.198],\n",
       "       [ 0.   ,  1.   ,  0.   ,  1.   , 39.   , 22.697],\n",
       "       [ 0.   ,  1.   ,  0.   ,  1.   , 41.   , 18.739],\n",
       "       [ 1.   ,  1.   ,  0.   ,  0.   , 45.   , 17.951],\n",
       "       [ 1.   ,  0.   ,  0.   ,  1.   , 51.   , 11.343],\n",
       "       [ 1.   ,  1.   ,  0.   ,  0.   , 49.   , 10.537],\n",
       "       [ 1.   ,  0.   ,  1.   ,  1.   , 50.   , 15.79 ],\n",
       "       [ 1.   ,  0.   ,  1.   ,  0.   , 24.   , 25.786],\n",
       "       [ 1.   ,  0.   ,  0.   ,  0.   , 60.   , 13.934],\n",
       "       [ 0.   ,  0.   ,  1.   ,  1.   , 20.   ,  9.281],\n",
       "       [ 0.   ,  0.   ,  0.   ,  1.   , 34.   , 19.199],\n",
       "       [ 0.   ,  1.   ,  0.   ,  1.   , 64.   , 25.741],\n",
       "       [ 0.   ,  0.   ,  1.   ,  0.   , 30.   , 10.443],\n",
       "       [ 0.   ,  1.   ,  0.   ,  1.   , 34.   , 12.923],\n",
       "       [ 1.   ,  0.   ,  1.   ,  1.   , 67.   ,  9.514],\n",
       "       [ 0.   ,  0.   ,  1.   ,  0.   , 57.   , 14.216],\n",
       "       [ 0.   ,  0.   ,  1.   ,  1.   , 47.   ,  6.683],\n",
       "       [ 0.   ,  0.   ,  1.   ,  0.   , 69.   , 10.065],\n",
       "       [ 0.   ,  0.   ,  1.   ,  1.   , 68.   , 27.05 ],\n",
       "       [ 0.   ,  0.   ,  1.   ,  1.   , 50.   , 17.211],\n",
       "       [ 1.   ,  0.   ,  1.   ,  0.   , 39.   , 15.969],\n",
       "       [ 1.   ,  0.   ,  1.   ,  1.   , 67.   , 10.898],\n",
       "       [ 1.   ,  0.   ,  0.   ,  0.   , 23.   ,  8.011],\n",
       "       [ 1.   ,  0.   ,  1.   ,  1.   , 23.   , 14.02 ],\n",
       "       [ 0.   ,  0.   ,  1.   ,  1.   , 49.   ,  9.381],\n",
       "       [ 1.   ,  0.   ,  1.   ,  0.   , 23.   , 12.26 ],\n",
       "       [ 1.   ,  0.   ,  0.   ,  1.   , 31.   , 17.069],\n",
       "       [ 0.   ,  0.   ,  0.   ,  1.   , 58.   , 14.239],\n",
       "       [ 0.   ,  1.   ,  0.   ,  0.   , 56.   , 11.567],\n",
       "       [ 0.   ,  0.   ,  0.   ,  1.   , 18.   , 24.276],\n",
       "       [ 1.   ,  1.   ,  0.   ,  1.   , 39.   , 13.938],\n",
       "       [ 0.   ,  0.   ,  0.   ,  0.   , 19.   , 13.313],\n",
       "       [ 0.   ,  0.   ,  1.   ,  0.   , 32.   ,  7.477],\n",
       "       [ 0.   ,  1.   ,  0.   ,  1.   , 65.   , 13.769],\n",
       "       [ 0.   ,  0.   ,  0.   ,  1.   , 32.   , 25.974],\n",
       "       [ 1.   ,  1.   ,  0.   ,  0.   , 47.   , 10.114],\n",
       "       [ 0.   ,  0.   ,  0.   ,  0.   , 46.   , 34.686],\n",
       "       [ 1.   ,  0.   ,  1.   ,  0.   , 64.   ,  7.761],\n",
       "       [ 0.   ,  0.   ,  0.   ,  0.   , 60.   , 13.303],\n",
       "       [ 1.   ,  0.   ,  0.   ,  1.   , 74.   , 15.436],\n",
       "       [ 1.   ,  0.   ,  0.   ,  1.   , 31.   , 11.227],\n",
       "       [ 0.   ,  0.   ,  1.   ,  0.   , 24.   , 10.605],\n",
       "       [ 0.   ,  0.   ,  1.   ,  0.   , 50.   , 12.703],\n",
       "       [ 1.   ,  1.   ,  0.   ,  1.   , 69.   , 11.455],\n",
       "       [ 1.   ,  0.   ,  1.   ,  0.   , 60.   , 15.171],\n",
       "       [ 0.   ,  0.   ,  0.   ,  1.   , 37.   , 23.091],\n",
       "       [ 1.   ,  1.   ,  0.   ,  1.   , 49.   , 13.598],\n",
       "       [ 0.   ,  0.   ,  1.   ,  1.   , 41.   , 22.905],\n",
       "       [ 1.   ,  1.   ,  0.   ,  1.   , 45.   , 10.017],\n",
       "       [ 0.   ,  1.   ,  0.   ,  0.   , 47.   , 10.067],\n",
       "       [ 1.   ,  1.   ,  0.   ,  1.   , 26.   , 20.909],\n",
       "       [ 0.   ,  1.   ,  0.   ,  0.   , 33.   , 33.486],\n",
       "       [ 1.   ,  0.   ,  0.   ,  0.   , 70.   ,  9.849],\n",
       "       [ 0.   ,  1.   ,  0.   ,  1.   , 61.   ,  7.34 ],\n",
       "       [ 1.   ,  0.   ,  0.   ,  1.   , 65.   , 34.997],\n",
       "       [ 0.   ,  0.   ,  1.   ,  0.   , 70.   , 20.489],\n",
       "       [ 0.   ,  0.   ,  0.   ,  0.   , 42.   , 21.036],\n",
       "       [ 1.   ,  0.   ,  1.   ,  0.   , 53.   , 14.133],\n",
       "       [ 0.   ,  0.   ,  1.   ,  0.   , 67.   , 15.891],\n",
       "       [ 1.   ,  0.   ,  0.   ,  1.   , 72.   ,  9.677],\n",
       "       [ 1.   ,  1.   ,  0.   ,  1.   , 47.   , 30.568],\n",
       "       [ 0.   ,  0.   ,  1.   ,  1.   , 39.   , 17.225],\n",
       "       [ 1.   ,  0.   ,  0.   ,  0.   , 59.   , 13.935],\n",
       "       [ 1.   ,  0.   ,  0.   ,  1.   , 64.   , 20.932],\n",
       "       [ 1.   ,  0.   ,  0.   ,  0.   , 47.   , 10.403],\n",
       "       [ 1.   ,  0.   ,  0.   ,  0.   , 50.   ,  7.49 ],\n",
       "       [ 1.   ,  1.   ,  0.   ,  1.   , 49.   , 11.014],\n",
       "       [ 1.   ,  1.   ,  0.   ,  1.   , 57.   , 19.128],\n",
       "       [ 0.   ,  0.   ,  0.   ,  1.   , 16.   , 15.516],\n",
       "       [ 1.   ,  1.   ,  0.   ,  0.   , 56.   , 15.015]])"
      ]
     },
     "execution_count": 62,
     "metadata": {},
     "output_type": "execute_result"
    }
   ],
   "source": [
    "X_train=transformer.fit_transform(X_train)\n",
    "X_train\n"
   ]
  },
  {
   "cell_type": "code",
   "execution_count": 63,
   "id": "ae6b9214",
   "metadata": {},
   "outputs": [
    {
     "data": {
      "text/plain": [
       "array([[ 1.   ,  0.   ,  0.   ,  1.   , 60.   ,  8.621],\n",
       "       [ 1.   ,  0.   ,  1.   ,  0.   , 34.   , 22.456],\n",
       "       [ 1.   ,  0.   ,  0.   ,  1.   , 49.   ,  6.269],\n",
       "       [ 0.   ,  1.   ,  0.   ,  1.   , 40.   , 11.349],\n",
       "       [ 0.   ,  1.   ,  0.   ,  1.   , 38.   , 29.875],\n",
       "       [ 0.   ,  1.   ,  0.   ,  1.   , 42.   , 29.271],\n",
       "       [ 0.   ,  0.   ,  1.   ,  1.   , 50.   , 12.295],\n",
       "       [ 1.   ,  0.   ,  0.   ,  0.   , 43.   , 13.972],\n",
       "       [ 1.   ,  0.   ,  1.   ,  1.   , 43.   , 12.859],\n",
       "       [ 1.   ,  1.   ,  0.   ,  1.   , 67.   , 20.693],\n",
       "       [ 0.   ,  1.   ,  0.   ,  0.   , 47.   , 11.767],\n",
       "       [ 0.   ,  1.   ,  0.   ,  0.   , 74.   , 20.942],\n",
       "       [ 0.   ,  0.   ,  0.   ,  0.   , 35.   , 12.894],\n",
       "       [ 1.   ,  0.   ,  1.   ,  1.   , 55.   ,  7.261],\n",
       "       [ 1.   ,  0.   ,  0.   ,  1.   , 32.   ,  9.445],\n",
       "       [ 1.   ,  0.   ,  1.   ,  1.   , 60.   , 10.091],\n",
       "       [ 1.   ,  1.   ,  0.   ,  1.   , 37.   , 16.724],\n",
       "       [ 0.   ,  0.   ,  1.   ,  0.   , 28.   ,  7.798],\n",
       "       [ 1.   ,  1.   ,  0.   ,  0.   , 22.   ,  8.151],\n",
       "       [ 1.   ,  1.   ,  0.   ,  1.   , 52.   , 32.922],\n",
       "       [ 1.   ,  1.   ,  0.   ,  1.   , 62.   , 27.183],\n",
       "       [ 1.   ,  1.   ,  0.   ,  0.   , 38.   , 18.295],\n",
       "       [ 0.   ,  0.   ,  1.   ,  0.   , 36.   , 16.753],\n",
       "       [ 0.   ,  0.   ,  0.   ,  1.   , 24.   , 18.457],\n",
       "       [ 0.   ,  1.   ,  0.   ,  0.   , 58.   , 26.645],\n",
       "       [ 0.   ,  0.   ,  0.   ,  0.   , 55.   , 10.977],\n",
       "       [ 0.   ,  0.   ,  0.   ,  0.   , 18.   , 37.188],\n",
       "       [ 1.   ,  1.   ,  0.   ,  1.   , 36.   , 11.424],\n",
       "       [ 0.   ,  0.   ,  0.   ,  1.   , 15.   , 16.725],\n",
       "       [ 0.   ,  0.   ,  0.   ,  0.   , 45.   , 12.854],\n",
       "       [ 1.   ,  1.   ,  0.   ,  0.   , 72.   ,  6.769],\n",
       "       [ 1.   ,  1.   ,  0.   ,  1.   , 74.   , 11.939],\n",
       "       [ 0.   ,  0.   ,  0.   ,  1.   , 26.   , 19.161],\n",
       "       [ 1.   ,  0.   ,  0.   ,  0.   , 34.   , 18.703],\n",
       "       [ 1.   ,  0.   ,  1.   ,  0.   , 28.   , 27.064],\n",
       "       [ 1.   ,  1.   ,  0.   ,  0.   , 16.   , 12.006],\n",
       "       [ 0.   ,  0.   ,  0.   ,  1.   , 32.   , 10.292],\n",
       "       [ 0.   ,  0.   ,  0.   ,  1.   , 36.   , 15.49 ],\n",
       "       [ 1.   ,  0.   ,  0.   ,  0.   , 58.   , 18.991],\n",
       "       [ 1.   ,  0.   ,  0.   ,  1.   , 42.   , 12.766]])"
      ]
     },
     "execution_count": 63,
     "metadata": {},
     "output_type": "execute_result"
    }
   ],
   "source": [
    "X_test=transformer.transform(X_test)\n",
    "X_test"
   ]
  },
  {
   "cell_type": "markdown",
   "id": "5932560b",
   "metadata": {},
   "source": [
    "# Building The Model Without Parameter Tuning"
   ]
  },
  {
   "cell_type": "code",
   "execution_count": 67,
   "id": "537a4323",
   "metadata": {},
   "outputs": [],
   "source": [
    "from sklearn.svm import SVC\n",
    "from sklearn.neighbors import KNeighborsClassifier\n",
    "from sklearn.ensemble import RandomForestClassifier\n",
    "from sklearn import metrics"
   ]
  },
  {
   "cell_type": "code",
   "execution_count": 70,
   "id": "a640ed88",
   "metadata": {},
   "outputs": [
    {
     "data": {
      "text/plain": [
       "0.675"
      ]
     },
     "execution_count": 70,
     "metadata": {},
     "output_type": "execute_result"
    }
   ],
   "source": [
    "svm=SVC()\n",
    "svm.fit(X_train,Y_train)\n",
    "result=svm.predict(X_test)\n",
    "l=metrics.accuracy_score(Y_test,result)\n",
    "l"
   ]
  },
  {
   "cell_type": "code",
   "execution_count": 72,
   "id": "4d679806",
   "metadata": {},
   "outputs": [
    {
     "data": {
      "text/plain": [
       "0.65"
      ]
     },
     "execution_count": 72,
     "metadata": {},
     "output_type": "execute_result"
    }
   ],
   "source": [
    "knn=KNeighborsClassifier()\n",
    "knn.fit(X_train,Y_train)\n",
    "result=knn.predict(X_test)\n",
    "l=metrics.accuracy_score(Y_test,result)\n",
    "l"
   ]
  },
  {
   "cell_type": "code",
   "execution_count": 73,
   "id": "d643926c",
   "metadata": {},
   "outputs": [
    {
     "data": {
      "text/plain": [
       "1.0"
      ]
     },
     "execution_count": 73,
     "metadata": {},
     "output_type": "execute_result"
    }
   ],
   "source": [
    "rf=RandomForestClassifier()\n",
    "rf.fit(X_train,Y_train)\n",
    "result=rf.predict(X_test)\n",
    "l=metrics.accuracy_score(Y_test,result)\n",
    "l"
   ]
  },
  {
   "cell_type": "code",
   "execution_count": null,
   "id": "32af0b86",
   "metadata": {},
   "outputs": [],
   "source": [
    "GridSearchCV()"
   ]
  },
  {
   "cell_type": "markdown",
   "id": "2e24a1b3",
   "metadata": {},
   "source": [
    "# With GridSearch for Svm"
   ]
  },
  {
   "cell_type": "code",
   "execution_count": 75,
   "id": "cd6cbe4d",
   "metadata": {},
   "outputs": [],
   "source": [
    "from sklearn.model_selection import GridSearchCV\n"
   ]
  },
  {
   "cell_type": "code",
   "execution_count": 83,
   "id": "9a1ad4cb",
   "metadata": {},
   "outputs": [
    {
     "data": {
      "text/plain": [
       "{'C': [1, 2, 3],\n",
       " 'kernel': ['linear', 'poly', 'rbf', 'sigmoid'],\n",
       " 'degree': [2, 3, 4]}"
      ]
     },
     "execution_count": 83,
     "metadata": {},
     "output_type": "execute_result"
    }
   ],
   "source": [
    "Hyperparameters={'C':[1,2,3]\n",
    "                ,'kernel':['linear','poly','rbf','sigmoid']\n",
    "                ,'degree':[2,3,4]\n",
    "                }\n",
    "Hyperparameters"
   ]
  },
  {
   "cell_type": "code",
   "execution_count": 84,
   "id": "bf43e688",
   "metadata": {},
   "outputs": [],
   "source": [
    "grid_svc=GridSearchCV(estimator=svm\n",
    "                     ,param_grid=Hyperparameters\n",
    "                     ,cv=5\n",
    "                     ,verbose=2\n",
    "                     ,n_jobs=-1)"
   ]
  },
  {
   "cell_type": "code",
   "execution_count": 85,
   "id": "ab10a307",
   "metadata": {},
   "outputs": [
    {
     "name": "stdout",
     "output_type": "stream",
     "text": [
      "Fitting 5 folds for each of 36 candidates, totalling 180 fits\n"
     ]
    },
    {
     "data": {
      "text/plain": [
       "GridSearchCV(cv=5, estimator=SVC(), n_jobs=-1,\n",
       "             param_grid={'C': [1, 2, 3], 'degree': [2, 3, 4],\n",
       "                         'kernel': ['linear', 'poly', 'rbf', 'sigmoid']},\n",
       "             verbose=2)"
      ]
     },
     "execution_count": 85,
     "metadata": {},
     "output_type": "execute_result"
    }
   ],
   "source": [
    "grid_svc.fit(X_train,Y_train)"
   ]
  },
  {
   "cell_type": "code",
   "execution_count": 86,
   "id": "b5cb9cf4",
   "metadata": {},
   "outputs": [
    {
     "data": {
      "text/plain": [
       "{'C': 1, 'degree': 2, 'kernel': 'linear'}"
      ]
     },
     "execution_count": 86,
     "metadata": {},
     "output_type": "execute_result"
    }
   ],
   "source": [
    "grid_svc.best_params_"
   ]
  },
  {
   "cell_type": "code",
   "execution_count": 87,
   "id": "f1198db8",
   "metadata": {},
   "outputs": [
    {
     "data": {
      "text/plain": [
       "0.9875"
      ]
     },
     "execution_count": 87,
     "metadata": {},
     "output_type": "execute_result"
    }
   ],
   "source": [
    "grid_svc.best_score_"
   ]
  },
  {
   "cell_type": "code",
   "execution_count": 88,
   "id": "13d3901f",
   "metadata": {},
   "outputs": [
    {
     "name": "stdout",
     "output_type": "stream",
     "text": [
      "Fitting 5 folds for each of 36 candidates, totalling 180 fits\n"
     ]
    },
    {
     "name": "stderr",
     "output_type": "stream",
     "text": [
      "C:\\ProgramData\\Anaconda3\\lib\\site-packages\\sklearn\\model_selection\\_split.py:676: UserWarning: The least populated class in y has only 2 members, which is less than n_splits=5.\n",
      "  warnings.warn(\n"
     ]
    },
    {
     "data": {
      "text/plain": [
       "GridSearchCV(cv=5, estimator=SVC(), n_jobs=-1,\n",
       "             param_grid={'C': [1, 2, 3], 'degree': [2, 3, 4],\n",
       "                         'kernel': ['linear', 'poly', 'rbf', 'sigmoid']},\n",
       "             verbose=2)"
      ]
     },
     "execution_count": 88,
     "metadata": {},
     "output_type": "execute_result"
    }
   ],
   "source": [
    "grid_svc.fit(X_test,Y_test)"
   ]
  },
  {
   "cell_type": "code",
   "execution_count": 89,
   "id": "c7e59b0a",
   "metadata": {},
   "outputs": [
    {
     "data": {
      "text/plain": [
       "0.85"
      ]
     },
     "execution_count": 89,
     "metadata": {},
     "output_type": "execute_result"
    }
   ],
   "source": [
    "grid_svc.best_score_"
   ]
  },
  {
   "cell_type": "markdown",
   "id": "d8191b0d",
   "metadata": {},
   "source": [
    "# GridSearch For RandomForest"
   ]
  },
  {
   "cell_type": "code",
   "execution_count": 90,
   "id": "8298043c",
   "metadata": {},
   "outputs": [
    {
     "data": {
      "text/plain": [
       "{'n_estimators': [50, 100, 150, 200], 'criterion': ['gini', 'entropy']}"
      ]
     },
     "execution_count": 90,
     "metadata": {},
     "output_type": "execute_result"
    }
   ],
   "source": [
    "Hyperparameters={'n_estimators':[50,100,150,200]\n",
    "                ,'criterion':['gini','entropy']\n",
    "                }\n",
    "Hyperparameters"
   ]
  },
  {
   "cell_type": "code",
   "execution_count": 91,
   "id": "7c8ce86a",
   "metadata": {},
   "outputs": [],
   "source": [
    "grid_rf=GridSearchCV(estimator=rf\n",
    "                     ,param_grid=Hyperparameters\n",
    "                     ,cv=5\n",
    "                     ,verbose=2\n",
    "                     ,n_jobs=-1)"
   ]
  },
  {
   "cell_type": "code",
   "execution_count": 94,
   "id": "422c6699",
   "metadata": {},
   "outputs": [
    {
     "name": "stdout",
     "output_type": "stream",
     "text": [
      "Fitting 5 folds for each of 8 candidates, totalling 40 fits\n"
     ]
    },
    {
     "data": {
      "text/plain": [
       "GridSearchCV(cv=5, estimator=RandomForestClassifier(), n_jobs=-1,\n",
       "             param_grid={'criterion': ['gini', 'entropy'],\n",
       "                         'n_estimators': [50, 100, 150, 200]},\n",
       "             verbose=2)"
      ]
     },
     "execution_count": 94,
     "metadata": {},
     "output_type": "execute_result"
    }
   ],
   "source": [
    "grid_rf.fit(X_train,Y_train)"
   ]
  },
  {
   "cell_type": "code",
   "execution_count": 96,
   "id": "80b534f6",
   "metadata": {},
   "outputs": [
    {
     "data": {
      "text/plain": [
       "{'criterion': 'gini', 'n_estimators': 100}"
      ]
     },
     "execution_count": 96,
     "metadata": {},
     "output_type": "execute_result"
    }
   ],
   "source": [
    "grid_rf.best_params_"
   ]
  },
  {
   "cell_type": "code",
   "execution_count": 97,
   "id": "574334cb",
   "metadata": {},
   "outputs": [
    {
     "data": {
      "text/plain": [
       "0.9875"
      ]
     },
     "execution_count": 97,
     "metadata": {},
     "output_type": "execute_result"
    }
   ],
   "source": [
    "grid_rf.best_score_"
   ]
  },
  {
   "cell_type": "code",
   "execution_count": 98,
   "id": "213eb0b6",
   "metadata": {},
   "outputs": [
    {
     "name": "stdout",
     "output_type": "stream",
     "text": [
      "Fitting 5 folds for each of 8 candidates, totalling 40 fits\n"
     ]
    },
    {
     "name": "stderr",
     "output_type": "stream",
     "text": [
      "C:\\ProgramData\\Anaconda3\\lib\\site-packages\\sklearn\\model_selection\\_split.py:676: UserWarning: The least populated class in y has only 2 members, which is less than n_splits=5.\n",
      "  warnings.warn(\n"
     ]
    },
    {
     "data": {
      "text/plain": [
       "GridSearchCV(cv=5, estimator=RandomForestClassifier(), n_jobs=-1,\n",
       "             param_grid={'criterion': ['gini', 'entropy'],\n",
       "                         'n_estimators': [50, 100, 150, 200]},\n",
       "             verbose=2)"
      ]
     },
     "execution_count": 98,
     "metadata": {},
     "output_type": "execute_result"
    }
   ],
   "source": [
    "grid_rf.fit(X_test,Y_test)"
   ]
  },
  {
   "cell_type": "code",
   "execution_count": 99,
   "id": "84b2842b",
   "metadata": {},
   "outputs": [
    {
     "data": {
      "text/plain": [
       "0.875"
      ]
     },
     "execution_count": 99,
     "metadata": {},
     "output_type": "execute_result"
    }
   ],
   "source": [
    "grid_rf.best_score_"
   ]
  },
  {
   "cell_type": "markdown",
   "id": "8d57a5fb",
   "metadata": {},
   "source": [
    "# GridSearch for Knn"
   ]
  },
  {
   "cell_type": "code",
   "execution_count": 100,
   "id": "42588e4d",
   "metadata": {},
   "outputs": [
    {
     "data": {
      "text/plain": [
       "{'n_neighbors': [3, 5, 7, 10], 'weights': ['uniform', 'distance']}"
      ]
     },
     "execution_count": 100,
     "metadata": {},
     "output_type": "execute_result"
    }
   ],
   "source": [
    "Hyperparameters={'n_neighbors':[3,5,7,10]\n",
    "                ,'weights':['uniform','distance']\n",
    "                }\n",
    "Hyperparameters"
   ]
  },
  {
   "cell_type": "code",
   "execution_count": 101,
   "id": "d89f314e",
   "metadata": {},
   "outputs": [],
   "source": [
    "grid_knn=GridSearchCV(estimator=knn\n",
    "                     ,param_grid=Hyperparameters\n",
    "                     ,cv=5\n",
    "                     ,verbose=2\n",
    "                     ,n_jobs=-1)"
   ]
  },
  {
   "cell_type": "code",
   "execution_count": 102,
   "id": "e260dc7f",
   "metadata": {},
   "outputs": [
    {
     "name": "stdout",
     "output_type": "stream",
     "text": [
      "Fitting 5 folds for each of 8 candidates, totalling 40 fits\n"
     ]
    },
    {
     "data": {
      "text/plain": [
       "GridSearchCV(cv=5, estimator=KNeighborsClassifier(), n_jobs=-1,\n",
       "             param_grid={'n_neighbors': [3, 5, 7, 10],\n",
       "                         'weights': ['uniform', 'distance']},\n",
       "             verbose=2)"
      ]
     },
     "execution_count": 102,
     "metadata": {},
     "output_type": "execute_result"
    }
   ],
   "source": [
    "grid_knn.fit(X_train,Y_train)"
   ]
  },
  {
   "cell_type": "code",
   "execution_count": 103,
   "id": "3396b3ca",
   "metadata": {},
   "outputs": [
    {
     "data": {
      "text/plain": [
       "{'n_neighbors': 3, 'weights': 'distance'}"
      ]
     },
     "execution_count": 103,
     "metadata": {},
     "output_type": "execute_result"
    }
   ],
   "source": [
    "grid_knn.best_params_"
   ]
  },
  {
   "cell_type": "code",
   "execution_count": 108,
   "id": "81b58ad3",
   "metadata": {},
   "outputs": [
    {
     "data": {
      "text/plain": [
       "0.6"
      ]
     },
     "execution_count": 108,
     "metadata": {},
     "output_type": "execute_result"
    }
   ],
   "source": [
    "grid_knn.best_score_"
   ]
  },
  {
   "cell_type": "code",
   "execution_count": 107,
   "id": "3a9cab75",
   "metadata": {},
   "outputs": [
    {
     "name": "stdout",
     "output_type": "stream",
     "text": [
      "Fitting 5 folds for each of 8 candidates, totalling 40 fits\n"
     ]
    },
    {
     "name": "stderr",
     "output_type": "stream",
     "text": [
      "C:\\ProgramData\\Anaconda3\\lib\\site-packages\\sklearn\\model_selection\\_split.py:676: UserWarning: The least populated class in y has only 2 members, which is less than n_splits=5.\n",
      "  warnings.warn(\n"
     ]
    },
    {
     "data": {
      "text/plain": [
       "GridSearchCV(cv=5, estimator=KNeighborsClassifier(), n_jobs=-1,\n",
       "             param_grid={'n_neighbors': [3, 5, 7, 10],\n",
       "                         'weights': ['uniform', 'distance']},\n",
       "             verbose=2)"
      ]
     },
     "execution_count": 107,
     "metadata": {},
     "output_type": "execute_result"
    }
   ],
   "source": [
    "grid_knn.fit(X_test,Y_test)"
   ]
  },
  {
   "cell_type": "code",
   "execution_count": 109,
   "id": "27ab01db",
   "metadata": {},
   "outputs": [
    {
     "data": {
      "text/plain": [
       "0.6"
      ]
     },
     "execution_count": 109,
     "metadata": {},
     "output_type": "execute_result"
    }
   ],
   "source": [
    "grid_knn.best_score_"
   ]
  },
  {
   "cell_type": "code",
   "execution_count": null,
   "id": "62921aab",
   "metadata": {},
   "outputs": [],
   "source": []
  }
 ],
 "metadata": {
  "kernelspec": {
   "display_name": "Python 3 (ipykernel)",
   "language": "python",
   "name": "python3"
  },
  "language_info": {
   "codemirror_mode": {
    "name": "ipython",
    "version": 3
   },
   "file_extension": ".py",
   "mimetype": "text/x-python",
   "name": "python",
   "nbconvert_exporter": "python",
   "pygments_lexer": "ipython3",
   "version": "3.8.8"
  }
 },
 "nbformat": 4,
 "nbformat_minor": 5
}
